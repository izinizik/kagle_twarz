{
 "cells": [
  {
   "cell_type": "code",
   "execution_count": 1,
   "metadata": {},
   "outputs": [],
   "source": [
    "import numpy as np\n",
    "import pandas as pd\n",
    "\n",
    "import pandas_profiling as pp\n",
    "from sklearn.model_selection import train_test_split\n",
    "from sklearn.linear_model import LinearRegression\n",
    "\n",
    "import seaborn as sns\n",
    "sns.set()\n",
    "import matplotlib.pyplot as plt\n",
    "%matplotlib inline\n",
    "\n",
    "import torch\n",
    "import torchvision\n",
    "import torch.nn as nn\n",
    "import torch.optim as optim\n",
    "import torch.nn.functional as F\n",
    "from torch.utils.data import Dataset, DataLoader\n",
    "\n",
    "from scipy import misc\n",
    "import scipy.ndimage as sn\n",
    "\n",
    "\n",
    "TRAINPATH = '/home/izinizik/kagle_twarz/dane/training.csv'\n",
    "#TESTPATH = '/home/izinizik/kagle_twarz/test.csv'"
   ]
  },
  {
   "cell_type": "code",
   "execution_count": 2,
   "metadata": {},
   "outputs": [],
   "source": [
    "#use_cuda = torch.cuda.is_available()\n",
    "use_cuda = False\n",
    "device = torch.device(\"cuda:0\" if use_cuda else \"cpu\")\n",
    "dtype = torch.cuda.FloatTensor if use_cuda else torch.FloatTensor"
   ]
  },
  {
   "cell_type": "code",
   "execution_count": 3,
   "metadata": {},
   "outputs": [],
   "source": [
    "df_train = pd.read_csv(TRAINPATH)\n",
    "#df_test = pd.read_csv(TESTPATH)"
   ]
  },
  {
   "cell_type": "code",
   "execution_count": 4,
   "metadata": {},
   "outputs": [],
   "source": [
    "df_train['Image'] = df_train['Image'].apply(lambda im: np.fromstring(im, sep=' '))"
   ]
  },
  {
   "cell_type": "code",
   "execution_count": 5,
   "metadata": {},
   "outputs": [],
   "source": [
    "names = ['nose_tip_x','nose_tip_y','Image']"
   ]
  },
  {
   "cell_type": "code",
   "execution_count": 6,
   "metadata": {},
   "outputs": [],
   "source": [
    "df_train_named = df_train[names].dropna()"
   ]
  },
  {
   "cell_type": "code",
   "execution_count": 7,
   "metadata": {},
   "outputs": [
    {
     "name": "stdout",
     "output_type": "stream",
     "text": [
      "<class 'pandas.core.frame.DataFrame'>\n",
      "Int64Index: 7049 entries, 0 to 7048\n",
      "Data columns (total 3 columns):\n",
      "nose_tip_x    7049 non-null float64\n",
      "nose_tip_y    7049 non-null float64\n",
      "Image         7049 non-null object\n",
      "dtypes: float64(2), object(1)\n",
      "memory usage: 220.3+ KB\n"
     ]
    }
   ],
   "source": [
    "df_train_named.info()"
   ]
  },
  {
   "cell_type": "code",
   "execution_count": 8,
   "metadata": {},
   "outputs": [],
   "source": [
    "n_labels = len(names)-1"
   ]
  },
  {
   "cell_type": "code",
   "execution_count": 9,
   "metadata": {},
   "outputs": [],
   "source": [
    "X = np.vstack(df_train_named.iloc[:,n_labels].values)/ 255. \n",
    "y = df_train_named.iloc[:,:n_labels].values"
   ]
  },
  {
   "cell_type": "code",
   "execution_count": 10,
   "metadata": {},
   "outputs": [],
   "source": [
    "def plot_sample(images_array, dim=1, key=np.empty([10000,0]), key_pred=np.empty([10000,0])):\n",
    "    \n",
    "    fig = plt.figure(figsize=(8, 8))\n",
    "    fig.subplots_adjust(left=0, right=1, bottom=0, top=1, hspace=0.05, wspace=0.05)\n",
    "    sample = np.random.choice(len(images_array), dim*dim, replace=False)\n",
    "    for i in range(dim*dim):\n",
    "        ax = fig.add_subplot(dim, dim, i + 1, xticks=[], yticks=[])\n",
    "        ax.imshow(images_array[sample[i]].reshape(96,96), cmap='gray')\n",
    "        ax.scatter(key[sample[i],0::2], key[sample[i],1::2], s=20, marker='.', c='red')\n",
    "        ax.scatter(key_pred[sample[i],0::2], key_pred[sample[i],1::2], s=20, marker='.', c='blue')"
   ]
  },
  {
   "cell_type": "code",
   "execution_count": 11,
   "metadata": {},
   "outputs": [],
   "source": [
    "def rotation(image, key, angle):\n",
    "    image = image.reshape(96,96)\n",
    "    im_rot = sn.rotate(image, angle, reshape=False, mode='nearest') \n",
    "    org_center = (np.array(image.shape[:2][::-1])-1)/2.\n",
    "    rot_center = (np.array(im_rot.shape[:2][::-1])-1)/2.\n",
    "    orgx = key[0::2]-org_center[0]\n",
    "    orgy = key[1::2]-org_center[1]\n",
    "    a = np.deg2rad(angle)\n",
    "    key_rot = np.array([orgx*np.cos(a) + orgy*np.sin(a),\n",
    "        -orgx*np.sin(a) + orgy*np.cos(a) ])\n",
    "    key_rot[0,:] += rot_center[0]\n",
    "    key_rot[1,:] += rot_center[1]\n",
    "    return im_rot.reshape(1,96*96)[0], key_rot.T.reshape(1,key.shape[0])[0]"
   ]
  },
  {
   "cell_type": "code",
   "execution_count": 12,
   "metadata": {},
   "outputs": [],
   "source": [
    "def shift(image, key, shift):\n",
    "    image = image.reshape(96,96)\n",
    "    im_shift = sn.shift(image, shift, mode='nearest')\n",
    "    key_shift = np.array([key[0::2]+shift[1],key[1::2]+shift[0]])\n",
    "    return im_shift.reshape(1,96*96)[0], key_shift.T.reshape(1,key.shape[0])[0]"
   ]
  },
  {
   "cell_type": "code",
   "execution_count": 13,
   "metadata": {},
   "outputs": [],
   "source": [
    "sample_rot = np.random.choice(len(y), np.int(len(y)*0.5), replace=False)\n",
    "sample_shift = np.random.choice(len(y), np.int(len(y)*0.5), replace=False)\n",
    "X_affin, y_affin = [], []\n",
    "\n",
    "for i in range(len(y)):\n",
    "    if i in sample_rot:\n",
    "        delta = np.random.randint(6)-10\n",
    "        rot = rotation(X[i], y[i], delta)\n",
    "        if i in sample_shift:\n",
    "            vector = np.random.randint(6,size=2)-10\n",
    "            shifted = shift(rot[0], rot[1], vector)\n",
    "            X_affin.append(shifted[0])\n",
    "            y_affin.append(shifted[1])\n",
    "        else:\n",
    "            X_affin.append(rot[0])\n",
    "            y_affin.append(rot[1])\n",
    "    elif i in sample_shift:\n",
    "        vector = np.random.randint(10,size=2)-20\n",
    "        shifted = shift(X[i], y[i], vector)\n",
    "        X_affin.append(shifted[0])\n",
    "        y_affin.append(shifted[1])"
   ]
  },
  {
   "cell_type": "code",
   "execution_count": 14,
   "metadata": {},
   "outputs": [],
   "source": [
    "X_train, X_valid, y_train, y_valid = train_test_split(np.concatenate((X,X_affin)), np.concatenate((y,y_affin)))"
   ]
  },
  {
   "cell_type": "code",
   "execution_count": 15,
   "metadata": {},
   "outputs": [
    {
     "data": {
      "text/plain": [
       "(9260, 2)"
      ]
     },
     "execution_count": 15,
     "metadata": {},
     "output_type": "execute_result"
    }
   ],
   "source": [
    "np.shape(y_train)"
   ]
  },
  {
   "cell_type": "code",
   "execution_count": 16,
   "metadata": {},
   "outputs": [],
   "source": [
    "criterion = nn.MSELoss().to(device)"
   ]
  },
  {
   "cell_type": "code",
   "execution_count": 17,
   "metadata": {},
   "outputs": [
    {
     "data": {
      "text/plain": [
       "59.798738587354464"
      ]
     },
     "execution_count": 17,
     "metadata": {},
     "output_type": "execute_result"
    }
   ],
   "source": [
    "const_prediction_train = np.repeat(y_train.mean(axis=0).reshape(1,-1), y_train.shape[0], axis=0)\n",
    "criterion(torch.tensor(const_prediction_train), torch.tensor(y_train)).item()"
   ]
  },
  {
   "cell_type": "code",
   "execution_count": 18,
   "metadata": {},
   "outputs": [
    {
     "data": {
      "text/plain": [
       "59.139229603637546"
      ]
     },
     "execution_count": 18,
     "metadata": {},
     "output_type": "execute_result"
    }
   ],
   "source": [
    "const_prediction_valid = np.repeat(y_train.mean(axis=0).reshape(1,-1), y_valid.shape[0], axis=0)\n",
    "criterion(torch.tensor(const_prediction_valid), torch.tensor(y_valid)).item()"
   ]
  },
  {
   "cell_type": "code",
   "execution_count": 19,
   "metadata": {},
   "outputs": [],
   "source": [
    "class MyDataset(Dataset):\n",
    "\n",
    "    def __init__(self, X, y):\n",
    "        self.data = torch.tensor(X).type(dtype).reshape(-1,1,96,96).to(device)\n",
    "        self.label = torch.tensor(y).type(dtype).to(device)\n",
    "        self.len = X.shape[0]\n",
    "\n",
    "    def __getitem__(self, index):\n",
    "        return self.data[index], self.label[index]\n",
    "\n",
    "    def __len__(self):\n",
    "        return self.len"
   ]
  },
  {
   "cell_type": "code",
   "execution_count": 20,
   "metadata": {},
   "outputs": [],
   "source": [
    "dataset_train = MyDataset(X_train, y_train)\n",
    "train_loader = DataLoader(dataset=dataset_train,\n",
    "                          batch_size=32,\n",
    "                          shuffle=True,\n",
    "                          num_workers=4)"
   ]
  },
  {
   "cell_type": "code",
   "execution_count": 21,
   "metadata": {},
   "outputs": [],
   "source": [
    "dataset_valid = MyDataset(X_valid, y_valid)\n",
    "valid_loader = DataLoader(dataset=dataset_valid,\n",
    "                          batch_size=32,\n",
    "                          shuffle=True,\n",
    "                          num_workers=4)"
   ]
  },
  {
   "cell_type": "code",
   "execution_count": 22,
   "metadata": {},
   "outputs": [],
   "source": [
    "class ConvNet(nn.Module):\n",
    "\n",
    "    def __init__(self):\n",
    "\n",
    "        super(ConvNet, self).__init__()\n",
    "\n",
    "        self.conv1 = nn.Conv2d(in_channels=1, out_channels=16, kernel_size=3, padding=1)\n",
    "        self.conv2 = nn.Conv2d(in_channels=16, out_channels=32, kernel_size=3, padding=1)\n",
    "        self.conv3 = nn.Conv2d(in_channels=32, out_channels=32, kernel_size=3, padding=1)\n",
    "        self.conv4 = nn.Conv2d(in_channels=32, out_channels=32, kernel_size=3, padding=1)\n",
    "        self.conv5 = nn.Conv2d(in_channels=32, out_channels=32, kernel_size=3, padding=1)\n",
    "        \n",
    "        self.drop1 = nn.Dropout(p = 0.1)\n",
    "        self.drop2 = nn.Dropout(p = 0.1)\n",
    "        self.drop3 = nn.Dropout(p = 0.1)\n",
    "        self.drop4 = nn.Dropout(p = 0.2)\n",
    "        self.drop5 = nn.Dropout(p = 0.2)\n",
    "        \n",
    "        self.fc1 = nn.Linear(in_features=32*3*3, out_features=2)\n",
    "\n",
    "        self.pool = nn.MaxPool2d(kernel_size=2, stride=2)\n",
    "        \n",
    "      \n",
    "    def forward(self, x):\n",
    "        \n",
    "        x = self.drop1(self.pool(F.relu(self.conv1(x))))\n",
    "        x = self.drop2(self.pool(F.relu(self.conv2(x))))\n",
    "        x = self.drop3(self.pool(F.relu(self.conv3(x))))\n",
    "        x = self.drop4(self.pool(F.relu(self.conv4(x))))\n",
    "        x = self.drop5(self.pool(F.relu(self.conv5(x))))\n",
    "        \n",
    "        x = x.view(x.size(0), -1)\n",
    "        \n",
    "        x = self.fc1(x)\n",
    "\n",
    "        return(x)"
   ]
  },
  {
   "cell_type": "code",
   "execution_count": 23,
   "metadata": {},
   "outputs": [],
   "source": [
    "def train_net(net, n_epochs=500, store_every=10, print_every=10):\n",
    "\n",
    "    hist = {'train': [], 'valid': []}\n",
    "    \n",
    "    \n",
    "    for epoch in range(n_epochs): \n",
    "        \n",
    "        \n",
    "        net.train()\n",
    "        \n",
    "        for i, data in enumerate(train_loader, 0):\n",
    "            input_train, label_train = data\n",
    "            output_train = net(input_train) \n",
    "            loss = criterion(output_train[label_train==label_train], label_train[label_train==label_train])\n",
    "            optimizer.zero_grad()\n",
    "            loss.backward()\n",
    "            optimizer.step()\n",
    "        \n",
    "        if epoch % store_every == 0: \n",
    "            net.eval()\n",
    "            loss_sum = 0.0\n",
    "            n_loss = 0\n",
    "            for i, data in enumerate(train_loader, 0):\n",
    "                input_train, label_train = data\n",
    "                output_train = net(input_train) \n",
    "                loss_sum += criterion(output_train[label_train==label_train],label_train[label_train==label_train]).item()\n",
    "                n_loss += 1\n",
    "            hist['train'].append(loss_sum/n_loss)\n",
    "            loss_sum_valid = 0.0\n",
    "            n_loss_valid = 0\n",
    "            for i, data in enumerate(valid_loader, 0):\n",
    "                input_valid, label_valid = data\n",
    "                output_valid = net(input_valid) \n",
    "                loss_sum_valid += criterion(output_valid[label_valid==label_valid],label_valid[label_valid==label_valid]).item()\n",
    "                n_loss_valid += 1\n",
    "            hist['valid'].append(loss_sum_valid/n_loss_valid)\n",
    "\n",
    "\n",
    "        if epoch % print_every == 0:        \n",
    "            print('Epoch: {}, Loss train: {}, Loss valid: {}'.format(epoch, hist['train'][epoch], hist['valid'][epoch]))\n",
    "    print('Epoch: {}, Loss train: {}, Loss valid: {}'.format(epoch, hist['train'][epoch], hist['valid'][epoch]))\n",
    "    return net, hist"
   ]
  },
  {
   "cell_type": "code",
   "execution_count": 24,
   "metadata": {},
   "outputs": [],
   "source": [
    "convnet = ConvNet().to(device)"
   ]
  },
  {
   "cell_type": "code",
   "execution_count": 25,
   "metadata": {},
   "outputs": [
    {
     "data": {
      "text/plain": [
       "33122"
      ]
     },
     "execution_count": 25,
     "metadata": {},
     "output_type": "execute_result"
    }
   ],
   "source": [
    "def total_number_of_weights(model):\n",
    "    return sum([val.numel() for key, val in model.state_dict().items()])\n",
    "\n",
    "total_number_of_weights(convnet)"
   ]
  },
  {
   "cell_type": "code",
   "execution_count": 34,
   "metadata": {},
   "outputs": [],
   "source": [
    "pre_trained=torch.load('wagi_mouth_center_top_lip.pt')"
   ]
  },
  {
   "cell_type": "code",
   "execution_count": 35,
   "metadata": {},
   "outputs": [],
   "source": [
    "my_model=convnet.state_dict()"
   ]
  },
  {
   "cell_type": "code",
   "execution_count": 36,
   "metadata": {},
   "outputs": [],
   "source": [
    "for key,value in my_model.items():\n",
    "    if  (key != 'fc1.weight') and (key != 'fc1.bias'):\n",
    "        my_model[key]=pre_trained[key]"
   ]
  },
  {
   "cell_type": "code",
   "execution_count": 37,
   "metadata": {},
   "outputs": [],
   "source": [
    "convnet.load_state_dict(my_model)"
   ]
  },
  {
   "cell_type": "code",
   "execution_count": 38,
   "metadata": {},
   "outputs": [],
   "source": [
    "optimizer = optim.Adam(params = convnet.parameters(), lr = 3e-3)"
   ]
  },
  {
   "cell_type": "code",
   "execution_count": 39,
   "metadata": {},
   "outputs": [
    {
     "name": "stdout",
     "output_type": "stream",
     "text": [
      "Epoch: 0, Loss train: 35.459259556079736, Loss valid: 34.07208393529518\n",
      "Epoch: 2, Loss train: 23.780522478037867, Loss valid: 22.57939003423317\n",
      "Epoch: 4, Loss train: 21.197180527654186, Loss valid: 19.995422058498736\n",
      "Epoch: 6, Loss train: 24.555626941549367, Loss valid: 23.740237049220763\n",
      "Epoch: 8, Loss train: 17.04683301202182, Loss valid: 16.039753648423655\n",
      "Epoch: 9, Loss train: 19.58968821887312, Loss valid: 18.9314224695422\n"
     ]
    }
   ],
   "source": [
    "Convnet_trained, hist = train_net(convnet, n_epochs=10, store_every=1, print_every=2)"
   ]
  },
  {
   "cell_type": "code",
   "execution_count": 40,
   "metadata": {},
   "outputs": [
    {
     "data": {
      "image/png": "[encoded data removed]",
      "text/plain": [
       "<Figure size 432x288 with 1 Axes>"
      ]
     },
     "metadata": {
      "needs_background": "light"
     },
     "output_type": "display_data"
    }
   ],
   "source": [
    " def train_valid_plot(train, valid):\n",
    "    plt.plot(train, linewidth=2, label=\"train\")\n",
    "    plt.plot(valid, linewidth=2, label=\"valid\")\n",
    "    plt.grid()\n",
    "    plt.legend()\n",
    "    plt.ylim(5, 100) \n",
    "    plt.xlabel(\"epoch\")\n",
    "    plt.ylabel(\"loss\")\n",
    "    plt.show()\n",
    "    \n",
    "train_valid_plot(hist['train'], hist['valid'])"
   ]
  },
  {
   "cell_type": "code",
   "execution_count": 41,
   "metadata": {},
   "outputs": [
    {
     "data": {
      "image/png": "[encoded data removed]",
      "text/plain": [
       "<Figure size 576x576 with 4 Axes>"
      ]
     },
     "metadata": {},
     "output_type": "display_data"
    }
   ],
   "source": [
    "y_pred = Convnet_trained(torch.tensor(X_valid[:100]).float().reshape(-1,1,96,96)).detach().numpy()\n",
    "plot_sample(X_valid[:100], dim=2, key=y_valid[:100], key_pred=y_pred) #*48+48"
   ]
  },
  {
   "cell_type": "code",
   "execution_count": 42,
   "metadata": {},
   "outputs": [],
   "source": [
    "torch.save(Convnet_trained.state_dict(), 'pre.h5')"
   ]
  },
  {
   "cell_type": "code",
   "execution_count": 43,
   "metadata": {},
   "outputs": [
    {
     "data": {
      "text/plain": [
       "array([[46.81115 , 62.468384],\n",
       "       [46.10267 , 63.386726],\n",
       "       [43.052086, 60.188766],\n",
       "       [31.7383  , 42.165634],\n",
       "       [45.782364, 56.691452],\n",
       "       [46.999405, 53.07896 ],\n",
       "       [30.960049, 39.450478],\n",
       "       [45.352547, 62.417713],\n",
       "       [46.88289 , 55.033585],\n",
       "       [47.508965, 60.36204 ],\n",
       "       [48.210617, 60.114944],\n",
       "       [46.361385, 58.8162  ],\n",
       "       [40.627502, 53.66085 ],\n",
       "       [48.673737, 63.78255 ],\n",
       "       [47.81461 , 63.494476],\n",
       "       [49.514076, 66.606445],\n",
       "       [47.148468, 59.350533],\n",
       "       [48.400402, 67.02742 ],\n",
       "       [46.565033, 58.504852],\n",
       "       [31.498608, 50.388477],\n",
       "       [31.626898, 39.52191 ],\n",
       "       [37.802567, 58.926815],\n",
       "       [38.92887 , 55.716576],\n",
       "       [47.805153, 60.26893 ],\n",
       "       [49.487495, 60.002743],\n",
       "       [37.47497 , 52.10153 ],\n",
       "       [45.93831 , 62.14399 ],\n",
       "       [45.235374, 65.60133 ],\n",
       "       [32.088413, 46.49318 ],\n",
       "       [32.421013, 50.205387],\n",
       "       [26.987698, 42.148388],\n",
       "       [45.655323, 64.55838 ],\n",
       "       [47.547344, 64.06802 ],\n",
       "       [33.163116, 49.489395],\n",
       "       [38.030396, 54.16812 ],\n",
       "       [48.355698, 61.546776],\n",
       "       [44.84341 , 63.84608 ],\n",
       "       [43.73585 , 60.83989 ],\n",
       "       [42.546585, 59.126083],\n",
       "       [48.335808, 57.25348 ],\n",
       "       [44.281036, 60.51913 ],\n",
       "       [45.215633, 60.10212 ],\n",
       "       [35.08512 , 52.301636],\n",
       "       [51.72712 , 60.805653],\n",
       "       [46.565544, 55.083694],\n",
       "       [32.92552 , 44.474316],\n",
       "       [32.551727, 43.197807],\n",
       "       [45.729176, 62.27399 ],\n",
       "       [34.261963, 44.57602 ],\n",
       "       [49.382774, 62.70304 ],\n",
       "       [35.00888 , 46.373737],\n",
       "       [29.195158, 39.83439 ],\n",
       "       [49.390636, 59.636665],\n",
       "       [49.86097 , 58.257793],\n",
       "       [31.917728, 47.38365 ],\n",
       "       [41.976376, 46.09724 ],\n",
       "       [33.62403 , 51.58333 ],\n",
       "       [48.23385 , 65.49352 ],\n",
       "       [32.297268, 48.508347],\n",
       "       [48.048817, 66.097374],\n",
       "       [42.36356 , 62.38487 ],\n",
       "       [47.72433 , 56.63996 ],\n",
       "       [49.458984, 64.293434],\n",
       "       [45.999176, 53.277252],\n",
       "       [41.807602, 48.86013 ],\n",
       "       [42.923256, 60.932144],\n",
       "       [32.06687 , 48.00989 ],\n",
       "       [29.072844, 44.20352 ],\n",
       "       [41.835197, 59.05378 ],\n",
       "       [47.59276 , 52.032402],\n",
       "       [29.69091 , 37.289867],\n",
       "       [33.798664, 45.314297],\n",
       "       [34.86442 , 52.342987],\n",
       "       [43.128773, 57.987244],\n",
       "       [48.28612 , 56.936497],\n",
       "       [45.76616 , 62.658207],\n",
       "       [44.15449 , 56.893883],\n",
       "       [50.349045, 61.952713],\n",
       "       [46.99958 , 60.330032],\n",
       "       [47.149734, 62.34931 ],\n",
       "       [45.67804 , 60.95334 ],\n",
       "       [46.59398 , 65.416306],\n",
       "       [31.827011, 45.54386 ],\n",
       "       [44.88    , 64.23313 ],\n",
       "       [29.527298, 49.614098],\n",
       "       [48.82145 , 66.07906 ],\n",
       "       [51.05786 , 64.1519  ],\n",
       "       [44.68718 , 59.612404],\n",
       "       [46.957718, 59.092007],\n",
       "       [31.401096, 46.946274],\n",
       "       [45.634037, 65.415794],\n",
       "       [36.234047, 49.470604],\n",
       "       [45.9705  , 60.57022 ],\n",
       "       [35.721844, 58.438255],\n",
       "       [33.507458, 42.38716 ],\n",
       "       [49.230904, 56.93084 ],\n",
       "       [45.55053 , 65.82528 ],\n",
       "       [40.577984, 53.346764],\n",
       "       [47.346046, 56.757607],\n",
       "       [43.723854, 60.61708 ]], dtype=float32)"
      ]
     },
     "execution_count": 43,
     "metadata": {},
     "output_type": "execute_result"
    }
   ],
   "source": [
    "y_pred"
   ]
  },
  {
   "cell_type": "code",
   "execution_count": null,
   "metadata": {},
   "outputs": [],
   "source": []
  }
 ],
 "metadata": {
  "kernelspec": {
   "display_name": "Python 3",
   "language": "python",
   "name": "python3"
  },
  "language_info": {
   "codemirror_mode": {
    "name": "ipython",
    "version": 3
   },
   "file_extension": ".py",
   "mimetype": "text/x-python",
   "name": "python",
   "nbconvert_exporter": "python",
   "pygments_lexer": "ipython3",
   "version": "3.7.0"
  }
 },
 "nbformat": 4,
 "nbformat_minor": 2
}
