{
 "cells": [
  {
   "cell_type": "code",
   "execution_count": 1,
   "metadata": {},
   "outputs": [],
   "source": [
    "import numpy as np\n",
    "import pandas as pd\n",
    "\n",
    "import pandas_profiling as pp\n",
    "from sklearn.model_selection import train_test_split\n",
    "\n",
    "import seaborn as sns\n",
    "sns.set()\n",
    "import matplotlib.pyplot as plt\n",
    "%matplotlib inline\n",
    "\n",
    "import torch\n",
    "import torchvision\n",
    "\n",
    "import torch.nn as nn\n",
    "import torch.optim as optim\n",
    "import torch.nn.functional as F\n",
    "from torch.utils.data import Dataset, DataLoader\n",
    "\n",
    "TRAINPATH = 'training.csv'\n",
    "#TESTPATH = '/home/izinizik/kagle_twarz/test.csv'"
   ]
  },
  {
   "cell_type": "code",
   "execution_count": 3,
   "metadata": {},
   "outputs": [],
   "source": [
    "df_train = pd.read_csv(TRAINPATH)\n",
    "#df_test = pd.read_csv(TESTPATH)"
   ]
  },
  {
   "cell_type": "code",
   "execution_count": 4,
   "metadata": {},
   "outputs": [],
   "source": [
    "df_train['Image'] = df_train['Image'].apply(lambda im: np.fromstring(im, sep=' '))"
   ]
  },
  {
   "cell_type": "code",
   "execution_count": 5,
   "metadata": {},
   "outputs": [
    {
     "data": {
      "text/plain": [
       "left_eye_center_x             4.358422\n",
       "left_eye_center_y             5.262562\n",
       "right_eye_center_x            4.208961\n",
       "right_eye_center_y            4.992247\n",
       "left_eye_inner_corner_x       4.022554\n",
       "left_eye_inner_corner_y       4.139191\n",
       "left_eye_outer_corner_x       7.298855\n",
       "left_eye_outer_corner_y       7.204727\n",
       "right_eye_inner_corner_x      3.322540\n",
       "right_eye_inner_corner_y      4.038109\n",
       "right_eye_outer_corner_x      7.666276\n",
       "right_eye_outer_corner_y      7.048508\n",
       "left_eyebrow_inner_end_x      7.951913\n",
       "left_eyebrow_inner_end_y      8.220442\n",
       "left_eyebrow_outer_end_x     10.973629\n",
       "left_eyebrow_outer_end_y     13.156485\n",
       "right_eyebrow_inner_end_x     6.810261\n",
       "right_eyebrow_inner_end_y     8.078207\n",
       "right_eyebrow_outer_end_x    11.141585\n",
       "right_eyebrow_outer_end_y    13.281230\n",
       "nose_tip_x                   10.732525\n",
       "nose_tip_y                   20.508537\n",
       "mouth_left_corner_x          13.323456\n",
       "mouth_left_corner_y          19.700859\n",
       "mouth_right_corner_x         12.924764\n",
       "mouth_right_corner_y         18.143458\n",
       "mouth_center_top_lip_x        7.416219\n",
       "mouth_center_top_lip_y       26.098564\n",
       "mouth_center_bottom_lip_x     9.195383\n",
       "mouth_center_bottom_lip_y    23.170334\n",
       "dtype: float64"
      ]
     },
     "execution_count": 5,
     "metadata": {},
     "output_type": "execute_result"
    }
   ],
   "source": [
    "df_train.dropna().var(axis=0)"
   ]
  },
  {
   "cell_type": "code",
   "execution_count": 6,
   "metadata": {},
   "outputs": [
    {
     "name": "stdout",
     "output_type": "stream",
     "text": [
      "<class 'pandas.core.frame.DataFrame'>\n",
      "RangeIndex: 7049 entries, 0 to 7048\n",
      "Data columns (total 31 columns):\n",
      "left_eye_center_x            7039 non-null float64\n",
      "left_eye_center_y            7039 non-null float64\n",
      "right_eye_center_x           7036 non-null float64\n",
      "right_eye_center_y           7036 non-null float64\n",
      "left_eye_inner_corner_x      2271 non-null float64\n",
      "left_eye_inner_corner_y      2271 non-null float64\n",
      "left_eye_outer_corner_x      2267 non-null float64\n",
      "left_eye_outer_corner_y      2267 non-null float64\n",
      "right_eye_inner_corner_x     2268 non-null float64\n",
      "right_eye_inner_corner_y     2268 non-null float64\n",
      "right_eye_outer_corner_x     2268 non-null float64\n",
      "right_eye_outer_corner_y     2268 non-null float64\n",
      "left_eyebrow_inner_end_x     2270 non-null float64\n",
      "left_eyebrow_inner_end_y     2270 non-null float64\n",
      "left_eyebrow_outer_end_x     2225 non-null float64\n",
      "left_eyebrow_outer_end_y     2225 non-null float64\n",
      "right_eyebrow_inner_end_x    2270 non-null float64\n",
      "right_eyebrow_inner_end_y    2270 non-null float64\n",
      "right_eyebrow_outer_end_x    2236 non-null float64\n",
      "right_eyebrow_outer_end_y    2236 non-null float64\n",
      "nose_tip_x                   7049 non-null float64\n",
      "nose_tip_y                   7049 non-null float64\n",
      "mouth_left_corner_x          2269 non-null float64\n",
      "mouth_left_corner_y          2269 non-null float64\n",
      "mouth_right_corner_x         2270 non-null float64\n",
      "mouth_right_corner_y         2270 non-null float64\n",
      "mouth_center_top_lip_x       2275 non-null float64\n",
      "mouth_center_top_lip_y       2275 non-null float64\n",
      "mouth_center_bottom_lip_x    7016 non-null float64\n",
      "mouth_center_bottom_lip_y    7016 non-null float64\n",
      "Image                        7049 non-null object\n",
      "dtypes: float64(30), object(1)\n",
      "memory usage: 1.7+ MB\n"
     ]
    }
   ],
   "source": [
    "df_train.info()"
   ]
  },
  {
   "cell_type": "code",
   "execution_count": 9,
   "metadata": {},
   "outputs": [
    {
     "data": {
      "text/plain": [
       "left_eye_center_x            0.001419\n",
       "left_eye_center_y            0.001419\n",
       "right_eye_center_x           0.001844\n",
       "right_eye_center_y           0.001844\n",
       "left_eye_inner_corner_x      0.677827\n",
       "left_eye_inner_corner_y      0.677827\n",
       "left_eye_outer_corner_x      0.678394\n",
       "left_eye_outer_corner_y      0.678394\n",
       "right_eye_inner_corner_x     0.678252\n",
       "right_eye_inner_corner_y     0.678252\n",
       "right_eye_outer_corner_x     0.678252\n",
       "right_eye_outer_corner_y     0.678252\n",
       "left_eyebrow_inner_end_x     0.677969\n",
       "left_eyebrow_inner_end_y     0.677969\n",
       "left_eyebrow_outer_end_x     0.684352\n",
       "left_eyebrow_outer_end_y     0.684352\n",
       "right_eyebrow_inner_end_x    0.677969\n",
       "right_eyebrow_inner_end_y    0.677969\n",
       "right_eyebrow_outer_end_x    0.682792\n",
       "right_eyebrow_outer_end_y    0.682792\n",
       "nose_tip_x                   0.000000\n",
       "nose_tip_y                   0.000000\n",
       "mouth_left_corner_x          0.678110\n",
       "mouth_left_corner_y          0.678110\n",
       "mouth_right_corner_x         0.677969\n",
       "mouth_right_corner_y         0.677969\n",
       "mouth_center_top_lip_x       0.677259\n",
       "mouth_center_top_lip_y       0.677259\n",
       "mouth_center_bottom_lip_x    0.004682\n",
       "mouth_center_bottom_lip_y    0.004682\n",
       "Image                        0.000000\n",
       "dtype: float64"
      ]
     },
     "execution_count": 9,
     "metadata": {},
     "output_type": "execute_result"
    }
   ],
   "source": [
    "df_train.isna().sum(axis=0) / len(df_train)"
   ]
  },
  {
   "cell_type": "code",
   "execution_count": null,
   "metadata": {},
   "outputs": [],
   "source": [
    "profile = pp.ProfileReport(df_train)\n",
    "profile.to_file(outputfile=\"train.html\")"
   ]
  },
  {
   "cell_type": "code",
   "execution_count": 16,
   "metadata": {},
   "outputs": [],
   "source": [
    "feature_names_wo_xy = set([name[:-1] for name in list(df_train.columns)[:-1]])"
   ]
  },
  {
   "cell_type": "code",
   "execution_count": 11,
   "metadata": {},
   "outputs": [
    {
     "name": "stdout",
     "output_type": "stream",
     "text": [
      "left_eye_inner_corner_ 1.0\n",
      "nose_tip_ 1.0\n",
      "right_eyebrow_inner_end_ 1.0\n",
      "mouth_center_bottom_lip_ 1.0\n",
      "right_eye_inner_corner_ 1.0\n",
      "left_eye_center_ 1.0\n",
      "right_eye_outer_corner_ 1.0\n",
      "left_eye_outer_corner_ 1.0\n",
      "right_eye_center_ 1.0\n",
      "mouth_left_corner_ 1.0\n",
      "right_eyebrow_outer_end_ 1.0\n",
      "mouth_center_top_lip_ 1.0\n",
      "left_eyebrow_inner_end_ 1.0\n",
      "left_eyebrow_outer_end_ 1.0\n",
      "mouth_right_corner_ 1.0\n"
     ]
    }
   ],
   "source": [
    "for name in feature_names_wo_xy:\n",
    "    print(name, sum(df_train[name+'x'].isna()==df_train[name+'y'].isna())/len(df_train))"
   ]
  },
  {
   "cell_type": "code",
   "execution_count": 48,
   "metadata": {},
   "outputs": [],
   "source": [
    "big_var_names = []\n",
    "for name in feature_names_wo_xy:\n",
    "    if df_train[name+'x'].var()+df_train[name+'y'].var() > 40:\n",
    "            big_var_names.append(name+'x')\n",
    "            big_var_names.append(name+'y')\n",
    "\n",
    "big_var_names.append('Image')"
   ]
  },
  {
   "cell_type": "code",
   "execution_count": 5,
   "metadata": {},
   "outputs": [],
   "source": [
    "na_ratio = pd.DataFrame(df_train.isna().sum(axis=0) / len(df_train), columns=['ratio'])"
   ]
  },
  {
   "cell_type": "code",
   "execution_count": 12,
   "metadata": {},
   "outputs": [],
   "source": [
    "df_train_low_na = df_train[na_ratio.loc[na_ratio['ratio'] < 0.0015].index]"
   ]
  },
  {
   "cell_type": "code",
   "execution_count": 49,
   "metadata": {},
   "outputs": [],
   "source": [
    "df_train_big_var = df_train[big_var_names].dropna()"
   ]
  },
  {
   "cell_type": "code",
   "execution_count": 50,
   "metadata": {},
   "outputs": [
    {
     "name": "stdout",
     "output_type": "stream",
     "text": [
      "<class 'pandas.core.frame.DataFrame'>\n",
      "Int64Index: 7016 entries, 0 to 7048\n",
      "Data columns (total 5 columns):\n",
      "nose_tip_x                   7016 non-null float64\n",
      "nose_tip_y                   7016 non-null float64\n",
      "mouth_center_bottom_lip_x    7016 non-null float64\n",
      "mouth_center_bottom_lip_y    7016 non-null float64\n",
      "Image                        7016 non-null object\n",
      "dtypes: float64(4), object(1)\n",
      "memory usage: 328.9+ KB\n"
     ]
    }
   ],
   "source": [
    "df_train_big_var.info()"
   ]
  },
  {
   "cell_type": "code",
   "execution_count": 36,
   "metadata": {},
   "outputs": [
    {
     "ename": "NameError",
     "evalue": "name 'df_train_low_na' is not defined",
     "output_type": "error",
     "traceback": [
      "\u001b[0;31m---------------------------------------------------------------------------\u001b[0m",
      "\u001b[0;31mNameError\u001b[0m                                 Traceback (most recent call last)",
      "\u001b[0;32m<ipython-input-36-e01259d040ef>\u001b[0m in \u001b[0;36m<module>\u001b[0;34m()\u001b[0m\n\u001b[0;32m----> 1\u001b[0;31m \u001b[0mlen\u001b[0m\u001b[0;34m(\u001b[0m\u001b[0mdf_train_low_na\u001b[0m\u001b[0;34m.\u001b[0m\u001b[0mdropna\u001b[0m\u001b[0;34m(\u001b[0m\u001b[0;34m)\u001b[0m\u001b[0;34m)\u001b[0m\u001b[0;34m/\u001b[0m\u001b[0mlen\u001b[0m\u001b[0;34m(\u001b[0m\u001b[0mdf_train_low_na\u001b[0m\u001b[0;34m)\u001b[0m\u001b[0;34m\u001b[0m\u001b[0m\n\u001b[0m",
      "\u001b[0;31mNameError\u001b[0m: name 'df_train_low_na' is not defined"
     ]
    }
   ],
   "source": [
    "len(df_train_low_na.dropna())/len(df_train_low_na)"
   ]
  },
  {
   "cell_type": "code",
   "execution_count": 15,
   "metadata": {},
   "outputs": [
    {
     "data": {
      "text/plain": [
       "5"
      ]
     },
     "execution_count": 15,
     "metadata": {},
     "output_type": "execute_result"
    }
   ],
   "source": [
    "len(df_train_low_na.columns)"
   ]
  },
  {
   "cell_type": "code",
   "execution_count": 51,
   "metadata": {},
   "outputs": [
    {
     "data": {
      "text/plain": [
       "5"
      ]
     },
     "execution_count": 51,
     "metadata": {},
     "output_type": "execute_result"
    }
   ],
   "source": [
    "len(df_train_big_var.columns)"
   ]
  },
  {
   "cell_type": "code",
   "execution_count": null,
   "metadata": {},
   "outputs": [],
   "source": []
  }
 ],
 "metadata": {
  "kernelspec": {
   "display_name": "Python 3",
   "language": "python",
   "name": "python3"
  },
  "language_info": {
   "codemirror_mode": {
    "name": "ipython",
    "version": 3
   },
   "file_extension": ".py",
   "mimetype": "text/x-python",
   "name": "python",
   "nbconvert_exporter": "python",
   "pygments_lexer": "ipython3",
   "version": "3.7.0"
  }
 },
 "nbformat": 4,
 "nbformat_minor": 2
}
