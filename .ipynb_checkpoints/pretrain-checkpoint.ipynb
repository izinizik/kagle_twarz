{
 "cells": [
  {
   "cell_type": "code",
   "execution_count": 1,
   "metadata": {},
   "outputs": [],
   "source": [
    "import numpy as np\n",
    "import pandas as pd\n",
    "\n",
    "import pandas_profiling as pp\n",
    "from sklearn.model_selection import train_test_split\n",
    "from sklearn.linear_model import LinearRegression\n",
    "\n",
    "import seaborn as sns\n",
    "sns.set()\n",
    "import matplotlib.pyplot as plt\n",
    "%matplotlib inline\n",
    "\n",
    "import torch\n",
    "import torchvision\n",
    "import torch.nn as nn\n",
    "import torch.optim as optim\n",
    "import torch.nn.functional as F\n",
    "from torch.utils.data import Dataset, DataLoader\n",
    "\n",
    "from scipy import misc\n",
    "import scipy.ndimage as sn\n",
    "\n",
    "\n",
    "TRAINPATH = '/home/izinizik/kagle_twarz/dane/training.csv'\n",
    "#TESTPATH = '/home/izinizik/kagle_twarz/test.csv'"
   ]
  },
  {
   "cell_type": "code",
   "execution_count": 2,
   "metadata": {},
   "outputs": [],
   "source": [
    "#use_cuda = torch.cuda.is_available()\n",
    "use_cuda = False\n",
    "device = torch.device(\"cuda:0\" if use_cuda else \"cpu\")\n",
    "dtype = torch.cuda.FloatTensor if use_cuda else torch.FloatTensor"
   ]
  },
  {
   "cell_type": "code",
   "execution_count": 3,
   "metadata": {},
   "outputs": [],
   "source": [
    "df_train = pd.read_csv(TRAINPATH)\n",
    "#df_test = pd.read_csv(TESTPATH)"
   ]
  },
  {
   "cell_type": "code",
   "execution_count": 4,
   "metadata": {},
   "outputs": [],
   "source": [
    "df_train['Image'] = df_train['Image'].apply(lambda im: np.fromstring(im, sep=' '))"
   ]
  },
  {
   "cell_type": "code",
   "execution_count": 5,
   "metadata": {},
   "outputs": [],
   "source": [
    "names = ['nose_tip_x','nose_tip_y','left_eye_inner_corner_x','left_eye_inner_corner_y','Image']"
   ]
  },
  {
   "cell_type": "code",
   "execution_count": 6,
   "metadata": {},
   "outputs": [],
   "source": [
    "df_train_named = df_train[names]"
   ]
  },
  {
   "cell_type": "code",
   "execution_count": 7,
   "metadata": {},
   "outputs": [
    {
     "name": "stdout",
     "output_type": "stream",
     "text": [
      "<class 'pandas.core.frame.DataFrame'>\n",
      "RangeIndex: 7049 entries, 0 to 7048\n",
      "Data columns (total 5 columns):\n",
      "nose_tip_x                 7049 non-null float64\n",
      "nose_tip_y                 7049 non-null float64\n",
      "left_eye_inner_corner_x    2271 non-null float64\n",
      "left_eye_inner_corner_y    2271 non-null float64\n",
      "Image                      7049 non-null object\n",
      "dtypes: float64(4), object(1)\n",
      "memory usage: 275.4+ KB\n"
     ]
    }
   ],
   "source": [
    "df_train_named.info()"
   ]
  },
  {
   "cell_type": "code",
   "execution_count": 8,
   "metadata": {},
   "outputs": [],
   "source": [
    "n_labels = len(names)-1"
   ]
  },
  {
   "cell_type": "code",
   "execution_count": 9,
   "metadata": {},
   "outputs": [],
   "source": [
    "X = np.vstack(df_train_named.iloc[:,n_labels].values)/ 255. \n",
    "y = df_train_named.iloc[:,:n_labels].values"
   ]
  },
  {
   "cell_type": "code",
   "execution_count": 10,
   "metadata": {},
   "outputs": [],
   "source": [
    "def plot_sample(images_array, dim=1, key=np.empty([10000,0]), key_pred=np.empty([10000,0])):\n",
    "    \n",
    "    fig = plt.figure(figsize=(8, 8))\n",
    "    fig.subplots_adjust(left=0, right=1, bottom=0, top=1, hspace=0.05, wspace=0.05)\n",
    "    sample = np.random.choice(len(images_array), dim*dim, replace=False)\n",
    "    for i in range(dim*dim):\n",
    "        ax = fig.add_subplot(dim, dim, i + 1, xticks=[], yticks=[])\n",
    "        ax.imshow(images_array[sample[i]].reshape(96,96), cmap='gray')\n",
    "        ax.scatter(key[sample[i],0::2], key[sample[i],1::2], s=20, marker='.', c='red')\n",
    "        ax.scatter(key_pred[sample[i],0::2], key_pred[sample[i],1::2], s=20, marker='.', c='blue')"
   ]
  },
  {
   "cell_type": "code",
   "execution_count": 11,
   "metadata": {},
   "outputs": [],
   "source": [
    "def rotation(image, key, angle):\n",
    "    image = image.reshape(96,96)\n",
    "    im_rot = sn.rotate(image, angle, reshape=False, mode='nearest') \n",
    "    org_center = (np.array(image.shape[:2][::-1])-1)/2.\n",
    "    rot_center = (np.array(im_rot.shape[:2][::-1])-1)/2.\n",
    "    orgx = key[0::2]-org_center[0]\n",
    "    orgy = key[1::2]-org_center[1]\n",
    "    a = np.deg2rad(angle)\n",
    "    key_rot = np.array([orgx*np.cos(a) + orgy*np.sin(a),\n",
    "        -orgx*np.sin(a) + orgy*np.cos(a) ])\n",
    "    key_rot[0,:] += rot_center[0]\n",
    "    key_rot[1,:] += rot_center[1]\n",
    "    return im_rot.reshape(1,96*96)[0], key_rot.T.reshape(1,key.shape[0])[0]"
   ]
  },
  {
   "cell_type": "code",
   "execution_count": 12,
   "metadata": {},
   "outputs": [],
   "source": [
    "def shift(image, key, shift):\n",
    "    image = image.reshape(96,96)\n",
    "    im_shift = sn.shift(image, shift, mode='nearest')\n",
    "    key_shift = np.array([key[0::2]+shift[1],key[1::2]+shift[0]])\n",
    "    return im_shift.reshape(1,96*96)[0], key_shift.T.reshape(1,key.shape[0])[0]"
   ]
  },
  {
   "cell_type": "code",
   "execution_count": 13,
   "metadata": {},
   "outputs": [],
   "source": [
    "sample_rot = np.random.choice(len(y), np.int(len(y)*0.5), replace=False)\n",
    "sample_shift = np.random.choice(len(y), np.int(len(y)*0.5), replace=False)\n",
    "X_affin, y_affin = [], []\n",
    "\n",
    "for i in range(len(y)):\n",
    "    if i in sample_rot:\n",
    "        delta = np.random.randint(16)-30\n",
    "        rot = rotation(X[i], y[i], delta)\n",
    "        if i in sample_shift:\n",
    "            vector = np.random.randint(10,size=2)-20\n",
    "            shifted = shift(rot[0], rot[1], vector)\n",
    "            X_affin.append(shifted[0])\n",
    "            y_affin.append(shifted[1])\n",
    "        else:\n",
    "            X_affin.append(rot[0])\n",
    "            y_affin.append(rot[1])\n",
    "    elif i in sample_shift:\n",
    "        vector = np.random.randint(10,size=2)-20\n",
    "        shifted = shift(X[i], y[i], vector)\n",
    "        X_affin.append(shifted[0])\n",
    "        y_affin.append(shifted[1])"
   ]
  },
  {
   "cell_type": "code",
   "execution_count": 14,
   "metadata": {},
   "outputs": [],
   "source": [
    "X_train, X_valid, y_train, y_valid = train_test_split(np.concatenate((X,X_affin)), np.concatenate((y,y_affin)))"
   ]
  },
  {
   "cell_type": "code",
   "execution_count": 15,
   "metadata": {},
   "outputs": [
    {
     "data": {
      "text/plain": [
       "(9242, 4)"
      ]
     },
     "execution_count": 15,
     "metadata": {},
     "output_type": "execute_result"
    }
   ],
   "source": [
    "np.shape(y_train)"
   ]
  },
  {
   "cell_type": "code",
   "execution_count": 16,
   "metadata": {},
   "outputs": [],
   "source": [
    "criterion = nn.MSELoss().to(device)"
   ]
  },
  {
   "cell_type": "code",
   "execution_count": 17,
   "metadata": {},
   "outputs": [],
   "source": [
    "column_means = []\n",
    "for i in range(len(names)-1):\n",
    "    column_means.append(y_train[:,i][y_train[:,i]==y_train[:,i]].mean())"
   ]
  },
  {
   "cell_type": "code",
   "execution_count": 18,
   "metadata": {},
   "outputs": [
    {
     "data": {
      "text/plain": [
       "78.84344325918646"
      ]
     },
     "execution_count": 18,
     "metadata": {},
     "output_type": "execute_result"
    }
   ],
   "source": [
    "const_prediction_train = np.repeat([column_means], y_train.shape[0], axis=0)\n",
    "criterion(torch.tensor(const_prediction_train[y_train==y_train]), torch.tensor(y_train[y_train==y_train])).item()"
   ]
  },
  {
   "cell_type": "code",
   "execution_count": 19,
   "metadata": {},
   "outputs": [
    {
     "data": {
      "text/plain": [
       "77.5272319576057"
      ]
     },
     "execution_count": 19,
     "metadata": {},
     "output_type": "execute_result"
    }
   ],
   "source": [
    "const_prediction_valid = np.repeat([column_means], y_valid.shape[0], axis=0)\n",
    "criterion(torch.tensor(const_prediction_valid[y_valid==y_valid]), torch.tensor(y_valid[y_valid==y_valid])).item()"
   ]
  },
  {
   "cell_type": "code",
   "execution_count": 20,
   "metadata": {},
   "outputs": [],
   "source": [
    "X_train_noNaN, y_train_noNaN = X_train[~np.isnan(y_train).any(axis=1)], y_train[~np.isnan(y_train).any(axis=1)]\n",
    "X_valid_noNaN, y_valid_noNaN = X_valid[~np.isnan(y_valid).any(axis=1)], y_valid[~np.isnan(y_valid).any(axis=1)]"
   ]
  },
  {
   "cell_type": "code",
   "execution_count": 21,
   "metadata": {},
   "outputs": [],
   "source": [
    "regresion = LinearRegression().fit(X_train_noNaN, y_train_noNaN)"
   ]
  },
  {
   "cell_type": "code",
   "execution_count": 22,
   "metadata": {},
   "outputs": [
    {
     "data": {
      "text/plain": [
       "2.118346741777501e-25"
      ]
     },
     "execution_count": 22,
     "metadata": {},
     "output_type": "execute_result"
    }
   ],
   "source": [
    "linear_prediction_train = regresion.predict(X_train_noNaN)\n",
    "criterion(torch.tensor(linear_prediction_train), torch.tensor(y_train_noNaN)).item()"
   ]
  },
  {
   "cell_type": "code",
   "execution_count": 23,
   "metadata": {},
   "outputs": [
    {
     "data": {
      "text/plain": [
       "53.93229612686547"
      ]
     },
     "execution_count": 23,
     "metadata": {},
     "output_type": "execute_result"
    }
   ],
   "source": [
    "linear_prediction_valid = regresion.predict(X_valid_noNaN)\n",
    "criterion(torch.tensor(linear_prediction_valid), torch.tensor(y_valid_noNaN)).item()"
   ]
  },
  {
   "cell_type": "code",
   "execution_count": 20,
   "metadata": {},
   "outputs": [],
   "source": [
    "class MyDataset(Dataset):\n",
    "\n",
    "    def __init__(self, X, y):\n",
    "        self.data = torch.tensor(X).type(dtype).reshape(-1,1,96,96).to(device)\n",
    "        self.label = torch.tensor(y).type(dtype).to(device)\n",
    "        self.len = X.shape[0]\n",
    "\n",
    "    def __getitem__(self, index):\n",
    "        return self.data[index], self.label[index]\n",
    "\n",
    "    def __len__(self):\n",
    "        return self.len"
   ]
  },
  {
   "cell_type": "code",
   "execution_count": 21,
   "metadata": {},
   "outputs": [],
   "source": [
    "dataset_train = MyDataset(X_train, y_train)\n",
    "train_loader = DataLoader(dataset=dataset_train,\n",
    "                          batch_size=32,\n",
    "                          shuffle=True,\n",
    "                          num_workers=4)"
   ]
  },
  {
   "cell_type": "code",
   "execution_count": 22,
   "metadata": {},
   "outputs": [],
   "source": [
    "dataset_valid = MyDataset(X_valid, y_valid)\n",
    "valid_loader = DataLoader(dataset=dataset_valid,\n",
    "                          batch_size=32,\n",
    "                          shuffle=True,\n",
    "                          num_workers=4)"
   ]
  },
  {
   "cell_type": "code",
   "execution_count": 23,
   "metadata": {},
   "outputs": [],
   "source": [
    "class ConvNet(nn.Module):\n",
    "\n",
    "    def __init__(self):\n",
    "\n",
    "        super(ConvNet, self).__init__()\n",
    "\n",
    "        self.conv1 = nn.Conv2d(in_channels=1, out_channels=16, kernel_size=3, padding=1)\n",
    "        self.conv2 = nn.Conv2d(in_channels=16, out_channels=16, kernel_size=3, padding=1)\n",
    "        self.conv3 = nn.Conv2d(in_channels=16, out_channels=32, kernel_size=3, padding=1)\n",
    "        self.conv4 = nn.Conv2d(in_channels=32, out_channels=32, kernel_size=3, padding=1)\n",
    "        \n",
    "        self.drop1 = nn.Dropout(p = 0.1)\n",
    "        self.drop2 = nn.Dropout(p = 0.2)\n",
    "        self.drop3 = nn.Dropout(p = 0.2)\n",
    "        self.drop4 = nn.Dropout(p = 0.2)\n",
    "        \n",
    "        self.fc1 = nn.Linear(in_features=32*6*6, out_features=n_labels)\n",
    "\n",
    "        self.pool = nn.MaxPool2d(kernel_size=2, stride=2)\n",
    "        \n",
    "      \n",
    "    def forward(self, x):\n",
    "        \n",
    "        x = self.drop1(self.pool(F.relu(self.conv1(x))))\n",
    "        x = self.drop2(self.pool(F.relu(self.conv2(x))))\n",
    "        x = self.drop3(self.pool(F.relu(self.conv3(x))))\n",
    "        x = self.drop4(self.pool(F.relu(self.conv4(x))))\n",
    "        \n",
    "        x = x.view(x.size(0), -1)\n",
    "        \n",
    "        x = self.fc1(x)\n",
    "\n",
    "        return(x)"
   ]
  },
  {
   "cell_type": "code",
   "execution_count": 24,
   "metadata": {},
   "outputs": [],
   "source": [
    "def train_net(net, n_epochs=500, store_every=10, print_every=10):\n",
    "\n",
    "    hist = {'train': [], 'valid': []}\n",
    "    \n",
    "    \n",
    "    for epoch in range(n_epochs): \n",
    "        \n",
    "        \n",
    "        net.train()\n",
    "        \n",
    "        for i, data in enumerate(train_loader, 0):\n",
    "            input_train, label_train = data\n",
    "            output_train = net(input_train) \n",
    "            loss = criterion(output_train[label_train==label_train], label_train[label_train==label_train])\n",
    "            optimizer.zero_grad()\n",
    "            loss.backward()\n",
    "            optimizer.step()\n",
    "        \n",
    "        if epoch % store_every == 0: \n",
    "            net.eval()\n",
    "            loss_sum = 0.0\n",
    "            n_loss = 0\n",
    "            for i, data in enumerate(train_loader, 0):\n",
    "                input_train, label_train = data\n",
    "                output_train = net(input_train) \n",
    "                loss_sum += criterion(output_train[label_train==label_train],label_train[label_train==label_train]).item()\n",
    "                n_loss += 1\n",
    "            hist['train'].append(loss_sum/n_loss)\n",
    "            loss_sum_valid = 0.0\n",
    "            n_loss_valid = 0\n",
    "            for i, data in enumerate(valid_loader, 0):\n",
    "                input_valid, label_valid = data\n",
    "                output_valid = net(input_valid) \n",
    "                loss_sum_valid += criterion(output_valid[label_valid==label_valid],label_valid[label_valid==label_valid]).item()\n",
    "                n_loss_valid += 1\n",
    "            hist['valid'].append(loss_sum_valid/n_loss_valid)\n",
    "\n",
    "\n",
    "        if epoch % print_every == 0:        \n",
    "            print('Epoch: {}, Loss train: {}, Loss valid: {}'.format(epoch, hist['train'][epoch], hist['valid'][epoch]))\n",
    "    print('Epoch: {}, Loss train: {}, Loss valid: {}'.format(epoch, hist['train'][epoch], hist['valid'][epoch]))\n",
    "    return net, hist"
   ]
  },
  {
   "cell_type": "code",
   "execution_count": 25,
   "metadata": {},
   "outputs": [],
   "source": [
    "convnet = ConvNet().to(device)"
   ]
  },
  {
   "cell_type": "code",
   "execution_count": 26,
   "metadata": {},
   "outputs": [
    {
     "data": {
      "text/plain": [
       "20980"
      ]
     },
     "execution_count": 26,
     "metadata": {},
     "output_type": "execute_result"
    }
   ],
   "source": [
    "def total_number_of_weights(model):\n",
    "    return sum([val.numel() for key, val in model.state_dict().items()])\n",
    "\n",
    "total_number_of_weights(convnet)"
   ]
  },
  {
   "cell_type": "code",
   "execution_count": 20,
   "metadata": {},
   "outputs": [],
   "source": [
    "pre_trained=torch.load('wagi_mouth_center_top_lip.pt')"
   ]
  },
  {
   "cell_type": "code",
   "execution_count": 21,
   "metadata": {},
   "outputs": [],
   "source": [
    "my_model=convnet.state_dict()"
   ]
  },
  {
   "cell_type": "code",
   "execution_count": 22,
   "metadata": {},
   "outputs": [],
   "source": [
    "for key,value in my_model.items():\n",
    "    if  (key != 'fc1.weight') and (key != 'fc1.bias'):\n",
    "        my_model[key]=pre_trained[key]"
   ]
  },
  {
   "cell_type": "code",
   "execution_count": 23,
   "metadata": {},
   "outputs": [],
   "source": [
    "convnet.load_state_dict(my_model)"
   ]
  },
  {
   "cell_type": "code",
   "execution_count": 27,
   "metadata": {},
   "outputs": [],
   "source": [
    "optimizer = optim.Adam(params = convnet.parameters(), lr = 0.01)"
   ]
  },
  {
   "cell_type": "code",
   "execution_count": 28,
   "metadata": {},
   "outputs": [
    {
     "name": "stdout",
     "output_type": "stream",
     "text": [
      "Epoch: 0, Loss train: 2299.483504034656, Loss valid: 2311.196029820393\n",
      "Epoch: 5, Loss train: 1260.151591053471, Loss valid: 1266.887044690319\n",
      "Epoch: 10, Loss train: 622.4058327856361, Loss valid: 625.6155477307507\n",
      "Epoch: 15, Loss train: 275.9763087500338, Loss valid: 277.63267532820555\n",
      "Epoch: 20, Loss train: 126.96110906897944, Loss valid: 127.57144589768242\n",
      "Epoch: 25, Loss train: 84.14289768839377, Loss valid: 83.51382591798134\n",
      "Epoch: 30, Loss train: 79.04543594835539, Loss valid: 77.88336099054395\n",
      "Epoch: 35, Loss train: 78.89307646437912, Loss valid: 77.6279895035262\n",
      "Epoch: 40, Loss train: 78.91705134830673, Loss valid: 77.92738790610402\n",
      "Epoch: 45, Loss train: 78.93483434498928, Loss valid: 77.75034096314735\n",
      "Epoch: 50, Loss train: 78.8358195215773, Loss valid: 77.82052565112556\n",
      "Epoch: 55, Loss train: 78.91690364428457, Loss valid: 77.48177152810638\n",
      "Epoch: 60, Loss train: 78.90433151086721, Loss valid: 77.43950452509614\n",
      "Epoch: 65, Loss train: 78.91625860405628, Loss valid: 77.4402914538826\n"
     ]
    },
    {
     "name": "stderr",
     "output_type": "stream",
     "text": [
      "Process Process-817:\n",
      "Process Process-820:\n",
      "Process Process-818:\n",
      "Process Process-819:\n",
      "Traceback (most recent call last):\n",
      "Traceback (most recent call last):\n",
      "  File \"/home/izinizik/anaconda3/lib/python3.7/multiprocessing/process.py\", line 297, in _bootstrap\n",
      "    self.run()\n",
      "Traceback (most recent call last):\n",
      "  File \"/home/izinizik/anaconda3/lib/python3.7/multiprocessing/process.py\", line 99, in run\n",
      "    self._target(*self._args, **self._kwargs)\n",
      "  File \"/home/izinizik/anaconda3/lib/python3.7/multiprocessing/process.py\", line 297, in _bootstrap\n",
      "    self.run()\n",
      "  File \"/home/izinizik/anaconda3/lib/python3.7/multiprocessing/process.py\", line 297, in _bootstrap\n",
      "    self.run()\n",
      "  File \"/home/izinizik/anaconda3/lib/python3.7/site-packages/torch/utils/data/dataloader.py\", line 96, in _worker_loop\n",
      "    r = index_queue.get(timeout=MANAGER_STATUS_CHECK_INTERVAL)\n",
      "  File \"/home/izinizik/anaconda3/lib/python3.7/multiprocessing/process.py\", line 99, in run\n",
      "    self._target(*self._args, **self._kwargs)\n",
      "  File \"/home/izinizik/anaconda3/lib/python3.7/multiprocessing/process.py\", line 99, in run\n",
      "    self._target(*self._args, **self._kwargs)\n",
      "  File \"/home/izinizik/anaconda3/lib/python3.7/multiprocessing/queues.py\", line 104, in get\n",
      "    if not self._poll(timeout):\n",
      "  File \"/home/izinizik/anaconda3/lib/python3.7/site-packages/torch/utils/data/dataloader.py\", line 96, in _worker_loop\n",
      "    r = index_queue.get(timeout=MANAGER_STATUS_CHECK_INTERVAL)\n",
      "  File \"/home/izinizik/anaconda3/lib/python3.7/site-packages/torch/utils/data/dataloader.py\", line 96, in _worker_loop\n",
      "    r = index_queue.get(timeout=MANAGER_STATUS_CHECK_INTERVAL)\n",
      "  File \"/home/izinizik/anaconda3/lib/python3.7/multiprocessing/connection.py\", line 257, in poll\n",
      "    return self._poll(timeout)\n",
      "  File \"/home/izinizik/anaconda3/lib/python3.7/multiprocessing/queues.py\", line 104, in get\n",
      "    if not self._poll(timeout):\n",
      "  File \"/home/izinizik/anaconda3/lib/python3.7/multiprocessing/queues.py\", line 104, in get\n",
      "    if not self._poll(timeout):\n",
      "  File \"/home/izinizik/anaconda3/lib/python3.7/multiprocessing/connection.py\", line 414, in _poll\n",
      "    r = wait([self], timeout)\n",
      "  File \"/home/izinizik/anaconda3/lib/python3.7/multiprocessing/connection.py\", line 257, in poll\n",
      "    return self._poll(timeout)\n",
      "  File \"/home/izinizik/anaconda3/lib/python3.7/multiprocessing/connection.py\", line 257, in poll\n",
      "    return self._poll(timeout)\n",
      "  File \"/home/izinizik/anaconda3/lib/python3.7/multiprocessing/connection.py\", line 414, in _poll\n",
      "    r = wait([self], timeout)\n",
      "  File \"/home/izinizik/anaconda3/lib/python3.7/multiprocessing/connection.py\", line 920, in wait\n",
      "    ready = selector.select(timeout)\n",
      "  File \"/home/izinizik/anaconda3/lib/python3.7/multiprocessing/connection.py\", line 414, in _poll\n",
      "    r = wait([self], timeout)\n",
      "  File \"/home/izinizik/anaconda3/lib/python3.7/selectors.py\", line 415, in select\n",
      "    fd_event_list = self._selector.poll(timeout)\n",
      "  File \"/home/izinizik/anaconda3/lib/python3.7/multiprocessing/connection.py\", line 920, in wait\n",
      "    ready = selector.select(timeout)\n",
      "  File \"/home/izinizik/anaconda3/lib/python3.7/selectors.py\", line 415, in select\n",
      "    fd_event_list = self._selector.poll(timeout)\n",
      "KeyboardInterrupt\n",
      "  File \"/home/izinizik/anaconda3/lib/python3.7/multiprocessing/connection.py\", line 920, in wait\n",
      "    ready = selector.select(timeout)\n",
      "KeyboardInterrupt\n",
      "Traceback (most recent call last):\n",
      "  File \"/home/izinizik/anaconda3/lib/python3.7/selectors.py\", line 415, in select\n",
      "    fd_event_list = self._selector.poll(timeout)\n",
      "KeyboardInterrupt\n",
      "  File \"/home/izinizik/anaconda3/lib/python3.7/multiprocessing/process.py\", line 297, in _bootstrap\n",
      "    self.run()\n",
      "  File \"/home/izinizik/anaconda3/lib/python3.7/multiprocessing/process.py\", line 99, in run\n",
      "    self._target(*self._args, **self._kwargs)\n",
      "  File \"/home/izinizik/anaconda3/lib/python3.7/site-packages/torch/utils/data/dataloader.py\", line 96, in _worker_loop\n",
      "    r = index_queue.get(timeout=MANAGER_STATUS_CHECK_INTERVAL)\n",
      "  File \"/home/izinizik/anaconda3/lib/python3.7/multiprocessing/queues.py\", line 104, in get\n",
      "    if not self._poll(timeout):\n",
      "  File \"/home/izinizik/anaconda3/lib/python3.7/multiprocessing/connection.py\", line 257, in poll\n",
      "    return self._poll(timeout)\n",
      "  File \"/home/izinizik/anaconda3/lib/python3.7/multiprocessing/connection.py\", line 414, in _poll\n",
      "    r = wait([self], timeout)\n",
      "  File \"/home/izinizik/anaconda3/lib/python3.7/multiprocessing/connection.py\", line 920, in wait\n",
      "    ready = selector.select(timeout)\n",
      "  File \"/home/izinizik/anaconda3/lib/python3.7/selectors.py\", line 415, in select\n",
      "    fd_event_list = self._selector.poll(timeout)\n",
      "KeyboardInterrupt\n",
      "Exception ignored in: <function _DataLoaderIter.__del__ at 0x7ff5c574a730>\n",
      "Traceback (most recent call last):\n",
      "  File \"/home/izinizik/anaconda3/lib/python3.7/site-packages/torch/utils/data/dataloader.py\", line 397, in __del__\n",
      "    def __del__(self):\n",
      "  File \"/home/izinizik/anaconda3/lib/python3.7/site-packages/torch/utils/data/dataloader.py\", line 227, in handler\n",
      "    _error_if_any_worker_fails()\n",
      "RuntimeError: DataLoader worker (pid 7216) exited unexpectedly with exit code 1. Details are lost due to multiprocessing. Rerunning with num_workers=0 may give better error trace.\n"
     ]
    },
    {
     "ename": "KeyboardInterrupt",
     "evalue": "",
     "output_type": "error",
     "traceback": [
      "\u001b[0;31m---------------------------------------------------------------------------\u001b[0m",
      "\u001b[0;31mKeyboardInterrupt\u001b[0m                         Traceback (most recent call last)",
      "\u001b[0;32m<ipython-input-28-c58d6d15ee90>\u001b[0m in \u001b[0;36m<module>\u001b[0;34m()\u001b[0m\n\u001b[0;32m----> 1\u001b[0;31m \u001b[0mConvnet_trained\u001b[0m\u001b[0;34m,\u001b[0m \u001b[0mhist\u001b[0m \u001b[0;34m=\u001b[0m \u001b[0mtrain_net\u001b[0m\u001b[0;34m(\u001b[0m\u001b[0mconvnet\u001b[0m\u001b[0;34m,\u001b[0m \u001b[0mn_epochs\u001b[0m\u001b[0;34m=\u001b[0m\u001b[0;36m100\u001b[0m\u001b[0;34m,\u001b[0m \u001b[0mstore_every\u001b[0m\u001b[0;34m=\u001b[0m\u001b[0;36m1\u001b[0m\u001b[0;34m,\u001b[0m \u001b[0mprint_every\u001b[0m\u001b[0;34m=\u001b[0m\u001b[0;36m5\u001b[0m\u001b[0;34m)\u001b[0m\u001b[0;34m\u001b[0m\u001b[0m\n\u001b[0m",
      "\u001b[0;32m<ipython-input-24-120ab364d867>\u001b[0m in \u001b[0;36mtrain_net\u001b[0;34m(net, n_epochs, store_every, print_every)\u001b[0m\n\u001b[1;32m     14\u001b[0m             \u001b[0mloss\u001b[0m \u001b[0;34m=\u001b[0m \u001b[0mcriterion\u001b[0m\u001b[0;34m(\u001b[0m\u001b[0moutput_train\u001b[0m\u001b[0;34m[\u001b[0m\u001b[0mlabel_train\u001b[0m\u001b[0;34m==\u001b[0m\u001b[0mlabel_train\u001b[0m\u001b[0;34m]\u001b[0m\u001b[0;34m,\u001b[0m \u001b[0mlabel_train\u001b[0m\u001b[0;34m[\u001b[0m\u001b[0mlabel_train\u001b[0m\u001b[0;34m==\u001b[0m\u001b[0mlabel_train\u001b[0m\u001b[0;34m]\u001b[0m\u001b[0;34m)\u001b[0m\u001b[0;34m\u001b[0m\u001b[0m\n\u001b[1;32m     15\u001b[0m             \u001b[0moptimizer\u001b[0m\u001b[0;34m.\u001b[0m\u001b[0mzero_grad\u001b[0m\u001b[0;34m(\u001b[0m\u001b[0;34m)\u001b[0m\u001b[0;34m\u001b[0m\u001b[0m\n\u001b[0;32m---> 16\u001b[0;31m             \u001b[0mloss\u001b[0m\u001b[0;34m.\u001b[0m\u001b[0mbackward\u001b[0m\u001b[0;34m(\u001b[0m\u001b[0;34m)\u001b[0m\u001b[0;34m\u001b[0m\u001b[0m\n\u001b[0m\u001b[1;32m     17\u001b[0m             \u001b[0moptimizer\u001b[0m\u001b[0;34m.\u001b[0m\u001b[0mstep\u001b[0m\u001b[0;34m(\u001b[0m\u001b[0;34m)\u001b[0m\u001b[0;34m\u001b[0m\u001b[0m\n\u001b[1;32m     18\u001b[0m \u001b[0;34m\u001b[0m\u001b[0m\n",
      "\u001b[0;32m~/anaconda3/lib/python3.7/site-packages/torch/tensor.py\u001b[0m in \u001b[0;36mbackward\u001b[0;34m(self, gradient, retain_graph, create_graph)\u001b[0m\n\u001b[1;32m     91\u001b[0m                 \u001b[0mproducts\u001b[0m\u001b[0;34m.\u001b[0m \u001b[0mDefaults\u001b[0m \u001b[0mto\u001b[0m\u001b[0;31m \u001b[0m\u001b[0;31m`\u001b[0m\u001b[0;31m`\u001b[0m\u001b[0;32mFalse\u001b[0m\u001b[0;31m`\u001b[0m\u001b[0;31m`\u001b[0m\u001b[0;34m.\u001b[0m\u001b[0;34m\u001b[0m\u001b[0m\n\u001b[1;32m     92\u001b[0m         \"\"\"\n\u001b[0;32m---> 93\u001b[0;31m         \u001b[0mtorch\u001b[0m\u001b[0;34m.\u001b[0m\u001b[0mautograd\u001b[0m\u001b[0;34m.\u001b[0m\u001b[0mbackward\u001b[0m\u001b[0;34m(\u001b[0m\u001b[0mself\u001b[0m\u001b[0;34m,\u001b[0m \u001b[0mgradient\u001b[0m\u001b[0;34m,\u001b[0m \u001b[0mretain_graph\u001b[0m\u001b[0;34m,\u001b[0m \u001b[0mcreate_graph\u001b[0m\u001b[0;34m)\u001b[0m\u001b[0;34m\u001b[0m\u001b[0m\n\u001b[0m\u001b[1;32m     94\u001b[0m \u001b[0;34m\u001b[0m\u001b[0m\n\u001b[1;32m     95\u001b[0m     \u001b[0;32mdef\u001b[0m \u001b[0mregister_hook\u001b[0m\u001b[0;34m(\u001b[0m\u001b[0mself\u001b[0m\u001b[0;34m,\u001b[0m \u001b[0mhook\u001b[0m\u001b[0;34m)\u001b[0m\u001b[0;34m:\u001b[0m\u001b[0;34m\u001b[0m\u001b[0m\n",
      "\u001b[0;32m~/anaconda3/lib/python3.7/site-packages/torch/autograd/__init__.py\u001b[0m in \u001b[0;36mbackward\u001b[0;34m(tensors, grad_tensors, retain_graph, create_graph, grad_variables)\u001b[0m\n\u001b[1;32m     88\u001b[0m     Variable._execution_engine.run_backward(\n\u001b[1;32m     89\u001b[0m         \u001b[0mtensors\u001b[0m\u001b[0;34m,\u001b[0m \u001b[0mgrad_tensors\u001b[0m\u001b[0;34m,\u001b[0m \u001b[0mretain_graph\u001b[0m\u001b[0;34m,\u001b[0m \u001b[0mcreate_graph\u001b[0m\u001b[0;34m,\u001b[0m\u001b[0;34m\u001b[0m\u001b[0m\n\u001b[0;32m---> 90\u001b[0;31m         allow_unreachable=True)  # allow_unreachable flag\n\u001b[0m\u001b[1;32m     91\u001b[0m \u001b[0;34m\u001b[0m\u001b[0m\n\u001b[1;32m     92\u001b[0m \u001b[0;34m\u001b[0m\u001b[0m\n",
      "\u001b[0;31mKeyboardInterrupt\u001b[0m: "
     ]
    }
   ],
   "source": [
    "Convnet_trained, hist = train_net(convnet, n_epochs=100, store_every=1, print_every=5)"
   ]
  },
  {
   "cell_type": "code",
   "execution_count": 35,
   "metadata": {},
   "outputs": [
    {
     "data": {
      "image/png": "[encoded data removed]",
      "text/plain": [
       "<Figure size 432x288 with 1 Axes>"
      ]
     },
     "metadata": {
      "needs_background": "light"
     },
     "output_type": "display_data"
    }
   ],
   "source": [
    " def train_valid_plot(train, valid):\n",
    "    plt.plot(train, linewidth=3, label=\"train\")\n",
    "    plt.plot(valid, linewidth=3, label=\"valid\")\n",
    "    plt.grid()\n",
    "    plt.legend()\n",
    "    plt.ylim(5, 20) \n",
    "    plt.xlabel(\"epoch\")\n",
    "    plt.ylabel(\"loss\")\n",
    "    plt.show()\n",
    "    \n",
    "train_valid_plot(hist['train'], hist['valid'])"
   ]
  },
  {
   "cell_type": "code",
   "execution_count": 48,
   "metadata": {},
   "outputs": [
    {
     "data": {
      "image/png": "[encoded data removed]",
      "text/plain": [
       "<Figure size 576x576 with 4 Axes>"
      ]
     },
     "metadata": {},
     "output_type": "display_data"
    }
   ],
   "source": [
    "y_pred = Convnet_trained(torch.tensor(X_valid[:100]).float().reshape(-1,1,96,96)).detach().numpy()\n",
    "plot_sample(X_valid[:100], dim=2, key=y_valid[:100], key_pred=y_pred) #*48+48"
   ]
  },
  {
   "cell_type": "code",
   "execution_count": 47,
   "metadata": {},
   "outputs": [],
   "source": [
    "torch.save(Convnet_trained.state_dict(), 'nose_left_eye.h5')"
   ]
  },
  {
   "cell_type": "code",
   "execution_count": null,
   "metadata": {},
   "outputs": [],
   "source": []
  }
 ],
 "metadata": {
  "kernelspec": {
   "display_name": "Python 3",
   "language": "python",
   "name": "python3"
  },
  "language_info": {
   "codemirror_mode": {
    "name": "ipython",
    "version": 3
   },
   "file_extension": ".py",
   "mimetype": "text/x-python",
   "name": "python",
   "nbconvert_exporter": "python",
   "pygments_lexer": "ipython3",
   "version": "3.7.0"
  }
 },
 "nbformat": 4,
 "nbformat_minor": 2
}
